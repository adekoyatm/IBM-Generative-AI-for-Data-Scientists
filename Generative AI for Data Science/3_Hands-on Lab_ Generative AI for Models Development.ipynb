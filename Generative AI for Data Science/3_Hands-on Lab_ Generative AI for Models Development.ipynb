{
  "metadata": {
    "kernelspec": {
      "name": "python",
      "display_name": "Python (Pyodide)",
      "language": "python"
    },
    "language_info": {
      "codemirror_mode": {
        "name": "python",
        "version": 3
      },
      "file_extension": ".py",
      "mimetype": "text/x-python",
      "name": "python",
      "nbconvert_exporter": "python",
      "pygments_lexer": "ipython3",
      "version": "3.8"
    }
  },
  "nbformat_minor": 4,
  "nbformat": 4,
  "cells": [
    {
      "cell_type": "markdown",
      "source": "<p style=\"text-align:center\">\n    <a href=\"https://skills.network\" target=\"_blank\">\n    <img src=\"https://cf-courses-data.s3.us.cloud-object-storage.appdomain.cloud/assets/logos/SN_web_lightmode.png\" width=\"300\" alt=\"Skills Network Logo\">\n    </a>\n</p>\n",
      "metadata": {}
    },
    {
      "cell_type": "markdown",
      "source": "# Test Environment for Generative AI classroom labs\n\nThis lab provides a test environment for the codes generated using the Generative AI classroom.\n\nFollow the instructions below to set up this environment for further use.\n",
      "metadata": {}
    },
    {
      "cell_type": "markdown",
      "source": "# Setup\n",
      "metadata": {}
    },
    {
      "cell_type": "markdown",
      "source": "### Install required libraries\n\nIn case of a requirement of installing certain python libraries for use in your task, you may do so as shown below.\n",
      "metadata": {}
    },
    {
      "cell_type": "code",
      "source": "%pip install seaborn",
      "metadata": {
        "trusted": true
      },
      "outputs": [],
      "execution_count": 1
    },
    {
      "cell_type": "markdown",
      "source": "### Dataset URL from the GenAI lab\nUse the URL provided in the GenAI lab in the cell below. \n",
      "metadata": {}
    },
    {
      "cell_type": "code",
      "source": "URL = \"https://cf-courses-data.s3.us.cloud-object-storage.appdomain.cloud/IBMDeveloperSkillsNetwork-DA0101EN-Coursera/laptop_pricing_dataset_mod2.csv\"",
      "metadata": {
        "trusted": true
      },
      "outputs": [],
      "execution_count": 2
    },
    {
      "cell_type": "markdown",
      "source": "### Downloading the dataset\n\nExecute the following code to download the dataset in to the interface.\n\n> Please note that this step is essential in JupyterLite. If you are using a downloaded version of this notebook and running it on JupyterLabs, then you can skip this step and directly use the URL in pandas.read_csv() function to read the dataset as a dataframe\n",
      "metadata": {}
    },
    {
      "cell_type": "code",
      "source": "from pyodide.http import pyfetch\n\nasync def download(url, filename):\n    response = await pyfetch(url)\n    if response.status == 200:\n        with open(filename, \"wb\") as f:\n            f.write(await response.bytes())\n\npath = URL\n\nawait download(path, \"dataset.csv\")",
      "metadata": {
        "trusted": true
      },
      "outputs": [],
      "execution_count": 3
    },
    {
      "cell_type": "markdown",
      "source": "---\n",
      "metadata": {}
    },
    {
      "cell_type": "markdown",
      "source": "# Test Environment\n",
      "metadata": {}
    },
    {
      "cell_type": "code",
      "source": "# Keep appending the code generated to this cell, or add more cells below this to execute in parts\nimport pandas as pd\n\nfile_path = \"dataset.csv\"\ndata_frame = pd.read_csv(file_path)\n\n",
      "metadata": {
        "trusted": true
      },
      "outputs": [],
      "execution_count": 4
    },
    {
      "cell_type": "code",
      "source": "from sklearn.linear_model import LinearRegression\nfrom sklearn.metrics import mean_squared_error, r2_score\n\n#  Define the source and target variables\nsource_variable = data_frame[\"CPU_frequency\"]\ntarget_variable = data_frame[\"Price\"]\n\n# Create and train the linear regression model\nmodel = LinearRegression()\nmodel.fit(source_variable.values.reshape(-1, 1), target_variable)\n\n# Make predictions using the trained model\npredictions = model.predict(source_variable.values.reshape(-1, 1))\n\n# Calculate and display the MSE and R^2 values\nmse = mean_squared_error(target_variable, predictions)\nr2 = r2_score(target_variable, predictions)\n\nprint(\"Mean Squared Error:\", mse)\nprint(\"R^2 Score:\", r2)",
      "metadata": {
        "trusted": true
      },
      "outputs": [
        {
          "name": "stdout",
          "text": "Mean Squared Error: 284583.44058686297\nR^2 Score: 0.13444363210243238\n",
          "output_type": "stream"
        }
      ],
      "execution_count": 6
    },
    {
      "cell_type": "code",
      "source": "# Define the source and target variables\nsource_variables = data_frame[[\"CPU_frequency\", \"RAM_GB\", \"Storage_GB_SSD\", \"CPU_core\", \"OS\", \"GPU\", \"Category\"]]\ntarget_variable = data_frame[\"Price\"]\n\n# Create and train the linear regression model\nmodel = LinearRegression()\nmodel.fit(source_variables, target_variable)\n\n# Make predictions using the trained model\npredictions = model.predict(source_variables)\n\n# Calculate and display the MSE and R^2 values\nmse = mean_squared_error(target_variable, predictions)\nr2 = r2_score(target_variable, predictions)\n\nprint(\"Mean Squared Error:\", mse)\nprint(\"R^2 Score:\", r2)",
      "metadata": {
        "trusted": true
      },
      "outputs": [
        {
          "name": "stdout",
          "text": "Mean Squared Error: 161680.57263893107\nR^2 Score: 0.5082509055187374\n",
          "output_type": "stream"
        }
      ],
      "execution_count": 7
    },
    {
      "cell_type": "code",
      "source": "from sklearn.preprocessing import PolynomialFeatures\nimport numpy as np\n\n# Define the source and target variables\nsource_variable = data_frame[\"CPU_frequency\"]\ntarget_variable = data_frame[\"Price\"]\n\n# Create polynomial features for different orders\norders = [2, 3, 5]\nmse_values = []\nr2_values = []\n\nfor order in orders:\n    polynomial_features = PolynomialFeatures(degree=order)\n    source_variable_poly = polynomial_features.fit_transform(source_variable.values.reshape(-1, 1))\n\n    # Create and train the polynomial regression model\n    model = LinearRegression()\n    model.fit(source_variable_poly, target_variable)\n\n    # Make predictions using the trained model\n    predictions = model.predict(source_variable_poly)\n\n    # Calculate and display the MSE and R^2 values\n    mse = mean_squared_error(target_variable, predictions)\n    r2 = r2_score(target_variable, predictions)\n\n    mse_values.append(mse)\n    r2_values.append(r2)\n\n    print(f\"Polynomial Regression (Order {order}):\")\n    print(\"Mean Squared Error:\", mse)\n    print(\"R^2 Score:\", r2)\n    print()\n\n# Compare the performance of the models\nbest_order = orders[np.argmin(mse_values)]\nbest_mse = np.min(mse_values)\nbest_r2 = r2_values[np.argmin(mse_values)]\n\nprint(f\"Best Performing Polynomial Regression (Order {best_order}):\")\nprint(\"Mean Squared Error:\", best_mse)\nprint(\"R^2 Score:\", best_r2)\n\n",
      "metadata": {
        "trusted": true
      },
      "outputs": [
        {
          "name": "stdout",
          "text": "Polynomial Regression (Order 2):\nMean Squared Error: 249022.66596751186\nR^2 Score: 0.2426012074542374\n\nPolynomial Regression (Order 3):\nMean Squared Error: 241024.863038488\nR^2 Score: 0.2669264079653102\n\nPolynomial Regression (Order 5):\nMean Squared Error: 229137.29548054413\nR^2 Score: 0.30308227064436244\n\nBest Performing Polynomial Regression (Order 5):\nMean Squared Error: 229137.29548054413\nR^2 Score: 0.30308227064436244\n",
          "output_type": "stream"
        }
      ],
      "execution_count": 10
    },
    {
      "cell_type": "code",
      "source": "from sklearn.pipeline import make_pipeline\nfrom sklearn.preprocessing import StandardScaler\n\n# Define the source and target variables\nsource_variables = data_frame[[\"CPU_frequency\", \"RAM_GB\", \"Storage_GB_SSD\", \"CPU_core\", \"OS\", \"GPU\", \"Category\"]]\ntarget_variable = data_frame[\"Price\"]\n\n# Create the pipeline\npipeline = make_pipeline(\n    StandardScaler(),\n    PolynomialFeatures(degree=2),\n    LinearRegression()\n)\n\n# Train the pipeline\npipeline.fit(source_variables, target_variable)\n\n# Make predictions using the trained pipeline\npredictions = pipeline.predict(source_variables)\n\n# Calculate and display the MSE and R^2 values\nmse = mean_squared_error(target_variable, predictions)\nr2 = r2_score(target_variable, predictions)\n\nprint(\"Mean Squared Error:\", mse)\nprint(\"R^2 Score:\", r2)\n",
      "metadata": {
        "trusted": true
      },
      "outputs": [
        {
          "name": "stdout",
          "text": "Mean Squared Error: 120934.2421875\nR^2 Score: 0.6321802730109751\n",
          "output_type": "stream"
        }
      ],
      "execution_count": 12
    },
    {
      "cell_type": "code",
      "source": "from sklearn.linear_model import Ridge\nfrom sklearn.model_selection import GridSearchCV, cross_val_score\n\n\n# Step 2: Define the source and target variables\nsource_variables = data_frame[[\"CPU_frequency\", \"RAM_GB\", \"Storage_GB_SSD\", \"CPU_core\", \"OS\", \"GPU\", \"Category\"]]\ntarget_variable = data_frame[\"Price\"]\n\n# Step 3: Create polynomial features for selected attributes\npolynomial_features = PolynomialFeatures(degree=2)\nsource_variables_poly = polynomial_features.fit_transform(source_variables)\n\n# Step 4: Define the hyperparameter grid for Grid Search\nparam_grid = {\n    \"alpha\": [0.0001,0.001,0.01, 0.1, 1, 10],\n    \"fit_intercept\": [True, False]\n}\n\n# Step 5: Create and train the Ridge regression model with Grid Search\nmodel = Ridge()\ngrid_search = GridSearchCV(model, param_grid, cv=4)\ngrid_search.fit(source_variables_poly, target_variable)\n\n# Step 6: Evaluate the resulting model using cross-validation\nmse_scores = -cross_val_score(grid_search.best_estimator_, source_variables_poly, target_variable, cv=5, scoring=\"neg_mean_squared_error\")\nr2_scores = cross_val_score(grid_search.best_estimator_, source_variables_poly, target_variable, cv=5, scoring=\"r2\")\n\n# Step 7: Display the MSE and R^2 values\nmse = np.mean(mse_scores)\nr2 = np.mean(r2_scores)\n\nprint(\"Mean Squared Error:\", mse)\nprint(\"R^2 Score:\", r2)\n\n",
      "metadata": {
        "trusted": true
      },
      "outputs": [
        {
          "name": "stderr",
          "text": "/lib/python3.11/site-packages/sklearn/linear_model/_ridge.py:200: LinAlgWarning: Ill-conditioned matrix (rcond=1.01487e-16): result may not be accurate.\n  return linalg.solve(A, Xy, assume_a=\"pos\", overwrite_a=True).T\n/lib/python3.11/site-packages/sklearn/linear_model/_ridge.py:200: LinAlgWarning: Ill-conditioned matrix (rcond=9.34916e-17): result may not be accurate.\n  return linalg.solve(A, Xy, assume_a=\"pos\", overwrite_a=True).T\n/lib/python3.11/site-packages/sklearn/linear_model/_ridge.py:200: LinAlgWarning: Ill-conditioned matrix (rcond=9.82537e-17): result may not be accurate.\n  return linalg.solve(A, Xy, assume_a=\"pos\", overwrite_a=True).T\n",
          "output_type": "stream"
        },
        {
          "name": "stdout",
          "text": "Mean Squared Error: 175973.83952536914\nR^2 Score: 0.26605903748461024\n",
          "output_type": "stream"
        }
      ],
      "execution_count": 13
    },
    {
      "cell_type": "markdown",
      "source": "## Authors\n",
      "metadata": {}
    },
    {
      "cell_type": "markdown",
      "source": "[Abhishek Gagneja](https://www.linkedin.com/in/abhishek-gagneja-23051987/)\n",
      "metadata": {}
    },
    {
      "cell_type": "markdown",
      "source": "## Change Log\n",
      "metadata": {}
    },
    {
      "cell_type": "markdown",
      "source": "|Date (YYYY-MM-DD)|Version|Changed By|Change Description|\n|-|-|-|-|\n|2023-12-10|0.1|Abhishek Gagneja|Initial Draft created|\n",
      "metadata": {}
    },
    {
      "cell_type": "markdown",
      "source": "Copyright © 2023 IBM Corporation. All rights reserved.\n",
      "metadata": {}
    }
  ]
}